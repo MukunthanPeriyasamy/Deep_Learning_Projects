{
  "cells": [
    {
      "cell_type": "markdown",
      "metadata": {
        "id": "view-in-github",
        "colab_type": "text"
      },
      "source": [
        "<a href=\"https://colab.research.google.com/github/MukunthanPeriyasamy/Deep_Learning_Projects/blob/main/Face_Mask_Detection.ipynb\" target=\"_parent\"><img src=\"https://colab.research.google.com/assets/colab-badge.svg\" alt=\"Open In Colab\"/></a>"
      ]
    },
    {
      "cell_type": "code",
      "execution_count": 3,
      "metadata": {
        "id": "WTlLxPr3AZzf"
      },
      "outputs": [],
      "source": [
        "import os\n",
        "import zipfile\n",
        "import matplotlib.pyplot as plt\n",
        "import matplotlib.image as mimg\n",
        "from sklearn.model_selection import train_test_split\n",
        "import tensorflow as tf\n",
        "from tensorflow.keras.models import Sequential\n",
        "from tensorflow.keras.layers import Conv2D,MaxPool2D,Input,Flatten,Dense\n",
        "import cv2 as cv\n",
        "from PIL import Image"
      ]
    },
    {
      "cell_type": "code",
      "execution_count": 4,
      "metadata": {
        "id": "W4uE33FeBh--"
      },
      "outputs": [],
      "source": [
        "files = zipfile.ZipFile('archive.zip')\n",
        "files.extractall()"
      ]
    },
    {
      "cell_type": "markdown",
      "source": [
        "# Image Processing"
      ],
      "metadata": {
        "id": "HdXRfELt5ZZv"
      }
    },
    {
      "cell_type": "code",
      "execution_count": 5,
      "metadata": {
        "id": "RER0dlGVJFRX"
      },
      "outputs": [],
      "source": [
        "with_mask = os.listdir('/content/data/with_mask')\n",
        "without_mask = os.listdir('/content/data/without_mask')"
      ]
    },
    {
      "cell_type": "code",
      "execution_count": 6,
      "metadata": {
        "colab": {
          "base_uri": "https://localhost:8080/"
        },
        "id": "MBEAu2PtJxxh",
        "outputId": "341ec678-216b-4e01-b698-da0f90c05999"
      },
      "outputs": [
        {
          "output_type": "stream",
          "name": "stdout",
          "text": [
            "['with_mask_911.jpg', 'with_mask_1832.jpg', 'with_mask_771.jpg', 'with_mask_101.jpg', 'with_mask_2386.jpg']\n",
            "['without_mask_3793.jpg', 'without_mask_428.jpg', 'without_mask_2298.jpg', 'without_mask_2252.jpg', 'without_mask_2517.jpg']\n"
          ]
        }
      ],
      "source": [
        "print(with_mask[0:5])\n",
        "print(without_mask[0:5])"
      ]
    },
    {
      "cell_type": "code",
      "execution_count": 7,
      "metadata": {
        "colab": {
          "base_uri": "https://localhost:8080/"
        },
        "id": "UHjCy41lKAi9",
        "outputId": "5dea15a2-fdb2-4a0a-d537-21a5cc21de64"
      },
      "outputs": [
        {
          "output_type": "stream",
          "name": "stdout",
          "text": [
            "No of with mask images : 3725\n",
            "No of witout mask images : 3828\n"
          ]
        }
      ],
      "source": [
        "print(f\"No of with mask images : {len(with_mask)}\")\n",
        "print(f\"No of witout mask images : {len(without_mask)}\")"
      ]
    },
    {
      "cell_type": "code",
      "execution_count": 8,
      "metadata": {
        "id": "MSvIOayUKHyR"
      },
      "outputs": [],
      "source": [
        "with_mask_labels = [1] * len(with_mask)\n",
        "without_mask_labels = [0] * len(without_mask)"
      ]
    },
    {
      "cell_type": "code",
      "execution_count": 9,
      "metadata": {
        "colab": {
          "base_uri": "https://localhost:8080/"
        },
        "id": "kwUsqAHKKuSy",
        "outputId": "73440cfc-56c6-4caf-88be-7538e082a389"
      },
      "outputs": [
        {
          "output_type": "stream",
          "name": "stdout",
          "text": [
            "[1, 1, 1, 1, 1]\n",
            "[0, 0, 0, 0, 0]\n"
          ]
        }
      ],
      "source": [
        "print(with_mask_labels[0:5])\n",
        "print(without_mask_labels[0:5])"
      ]
    },
    {
      "cell_type": "code",
      "execution_count": 10,
      "metadata": {
        "id": "xlMhITt0Kz91"
      },
      "outputs": [],
      "source": [
        "labels = with_mask_labels + without_mask_labels"
      ]
    },
    {
      "cell_type": "code",
      "execution_count": 11,
      "metadata": {
        "colab": {
          "base_uri": "https://localhost:8080/"
        },
        "id": "KWoSk90wK5U7",
        "outputId": "42decab8-e2ac-4541-f46c-65606b219397"
      },
      "outputs": [
        {
          "output_type": "execute_result",
          "data": {
            "text/plain": [
              "([1, 1, 1, 1, 1], [0, 0, 0, 0])"
            ]
          },
          "metadata": {},
          "execution_count": 11
        }
      ],
      "source": [
        "labels[0:5] , labels[-5:-1]"
      ]
    },
    {
      "cell_type": "code",
      "execution_count": 12,
      "metadata": {
        "id": "rHyv1-XUK6Ae",
        "colab": {
          "base_uri": "https://localhost:8080/"
        },
        "outputId": "72220592-64cd-443c-b40b-5ea24d1c3714"
      },
      "outputs": [
        {
          "output_type": "stream",
          "name": "stderr",
          "text": [
            "/usr/local/lib/python3.10/dist-packages/PIL/Image.py:1054: UserWarning: Palette images with Transparency expressed in bytes should be converted to RGBA images\n",
            "  warnings.warn(\n"
          ]
        }
      ],
      "source": [
        "## Adding all the images to a list by converting and resizing the image into numpy array\n",
        "import numpy as np\n",
        "with_mask_path = 'data/with_mask/'\n",
        "\n",
        "data = []\n",
        "\n",
        "for files in with_mask:\n",
        "  image = Image.open(with_mask_path + files)\n",
        "  images = image.resize((224,224))\n",
        "  images = images.convert('RGB')\n",
        "  images = np.array(images)\n",
        "\n",
        "  data.append(images)"
      ]
    },
    {
      "cell_type": "code",
      "execution_count": 13,
      "metadata": {
        "id": "ogwrnT-pL38e"
      },
      "outputs": [],
      "source": [
        "without_mask_path = 'data/without_mask/'\n",
        "\n",
        "for files in without_mask:\n",
        "  image = Image.open(without_mask_path + files)\n",
        "  images = image.resize((224,224))\n",
        "  images = images.convert('RGB')\n",
        "  images = np.array(images)\n",
        "\n",
        "  data.append(images)"
      ]
    },
    {
      "cell_type": "code",
      "execution_count": 14,
      "metadata": {
        "colab": {
          "base_uri": "https://localhost:8080/"
        },
        "id": "cmR-Rp9JNAyX",
        "outputId": "495db0e7-53b1-483f-b9ee-afc3cbe85c27"
      },
      "outputs": [
        {
          "output_type": "execute_result",
          "data": {
            "text/plain": [
              "7553"
            ]
          },
          "metadata": {},
          "execution_count": 14
        }
      ],
      "source": [
        "len(with_mask) + len(without_mask)"
      ]
    },
    {
      "cell_type": "code",
      "execution_count": 15,
      "metadata": {
        "colab": {
          "base_uri": "https://localhost:8080/"
        },
        "id": "6Bs0LL7ONYQO",
        "outputId": "6aca4db2-4a61-4338-fe64-c522cd8cb434"
      },
      "outputs": [
        {
          "output_type": "execute_result",
          "data": {
            "text/plain": [
              "7553"
            ]
          },
          "metadata": {},
          "execution_count": 15
        }
      ],
      "source": [
        "len(data)"
      ]
    },
    {
      "cell_type": "code",
      "execution_count": 16,
      "metadata": {
        "colab": {
          "base_uri": "https://localhost:8080/"
        },
        "id": "W4seJHcFbNTE",
        "outputId": "87e399b0-8bda-4ddd-f46e-d5b7393039b6"
      },
      "outputs": [
        {
          "output_type": "execute_result",
          "data": {
            "text/plain": [
              "list"
            ]
          },
          "metadata": {},
          "execution_count": 16
        }
      ],
      "source": [
        "type(data)"
      ]
    },
    {
      "cell_type": "code",
      "execution_count": 17,
      "metadata": {
        "colab": {
          "base_uri": "https://localhost:8080/"
        },
        "id": "x6Pw3MIBbQfm",
        "outputId": "c103ce06-fb82-4762-b2cb-acd43e6e2335"
      },
      "outputs": [
        {
          "output_type": "execute_result",
          "data": {
            "text/plain": [
              "numpy.ndarray"
            ]
          },
          "metadata": {},
          "execution_count": 17
        }
      ],
      "source": [
        "type(data[0])"
      ]
    },
    {
      "cell_type": "code",
      "execution_count": 18,
      "metadata": {
        "colab": {
          "base_uri": "https://localhost:8080/"
        },
        "id": "98oQkYMzbkNL",
        "outputId": "6dbd4eb0-6c3d-40f9-e6b1-27af46605744"
      },
      "outputs": [
        {
          "output_type": "stream",
          "name": "stdout",
          "text": [
            "(224, 224, 3)\n"
          ]
        }
      ],
      "source": [
        "print(data[0].shape)"
      ]
    },
    {
      "cell_type": "code",
      "execution_count": 19,
      "metadata": {
        "id": "GrSrm5vrbq_0"
      },
      "outputs": [],
      "source": [
        "x = np.array(data)\n",
        "y = np.array(labels)"
      ]
    },
    {
      "cell_type": "code",
      "execution_count": 20,
      "metadata": {
        "id": "Z_XJwCwuNmWD"
      },
      "outputs": [],
      "source": [
        "## Train test split\n",
        "x_train,x_test,y_train,y_test = train_test_split(\n",
        "    x,y ,test_size=0.2,random_state = 0\n",
        "\n",
        ")"
      ]
    },
    {
      "cell_type": "code",
      "execution_count": 21,
      "metadata": {
        "colab": {
          "base_uri": "https://localhost:8080/",
          "height": 264
        },
        "id": "PKtowjsJbzQU",
        "outputId": "f1474c57-3978-496b-d36c-2304f6ef756b"
      },
      "outputs": [
        {
          "output_type": "execute_result",
          "data": {
            "text/plain": [
              "array([[[250, 250, 250],\n",
              "        [250, 250, 250],\n",
              "        [250, 250, 250],\n",
              "        ...,\n",
              "        [254, 254, 254],\n",
              "        [254, 254, 254],\n",
              "        [254, 254, 254]],\n",
              "\n",
              "       [[250, 250, 250],\n",
              "        [250, 250, 250],\n",
              "        [250, 250, 250],\n",
              "        ...,\n",
              "        [254, 254, 254],\n",
              "        [254, 254, 254],\n",
              "        [254, 254, 254]],\n",
              "\n",
              "       [[250, 250, 250],\n",
              "        [250, 250, 250],\n",
              "        [250, 250, 250],\n",
              "        ...,\n",
              "        [254, 254, 254],\n",
              "        [254, 254, 254],\n",
              "        [254, 254, 254]],\n",
              "\n",
              "       ...,\n",
              "\n",
              "       [[ 19,  21,  16],\n",
              "        [ 18,  20,  15],\n",
              "        [ 18,  20,  15],\n",
              "        ...,\n",
              "        [ 48,  43,  31],\n",
              "        [ 60,  56,  44],\n",
              "        [ 57,  53,  41]],\n",
              "\n",
              "       [[ 15,  17,  12],\n",
              "        [ 15,  17,  12],\n",
              "        [ 15,  17,  12],\n",
              "        ...,\n",
              "        [ 37,  34,  21],\n",
              "        [ 39,  36,  24],\n",
              "        [ 34,  31,  19]],\n",
              "\n",
              "       [[ 13,  15,  10],\n",
              "        [ 13,  15,  10],\n",
              "        [ 13,  15,  10],\n",
              "        ...,\n",
              "        [ 29,  27,  14],\n",
              "        [ 30,  28,  15],\n",
              "        [ 32,  30,  17]]], dtype=uint8)"
            ],
            "text/html": [
              "<style>\n",
              "      .ndarray_repr .ndarray_raw_data {\n",
              "        display: none;\n",
              "      }\n",
              "      .ndarray_repr.show_array .ndarray_raw_data {\n",
              "        display: block;\n",
              "      }\n",
              "      .ndarray_repr.show_array .ndarray_image_preview {\n",
              "        display: none;\n",
              "      }\n",
              "      </style>\n",
              "      <div id=\"id-91bc16d5-ba72-4398-b2ca-08e7e77e7879\" class=\"ndarray_repr\"><pre>ndarray (224, 224, 3) <button style=\"padding: 0 2px;\">show data</button></pre><img src=\"data:image/png;base64,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\" class=\"ndarray_image_preview\" /><pre class=\"ndarray_raw_data\">array([[[250, 250, 250],\n",
              "        [250, 250, 250],\n",
              "        [250, 250, 250],\n",
              "        ...,\n",
              "        [254, 254, 254],\n",
              "        [254, 254, 254],\n",
              "        [254, 254, 254]],\n",
              "\n",
              "       [[250, 250, 250],\n",
              "        [250, 250, 250],\n",
              "        [250, 250, 250],\n",
              "        ...,\n",
              "        [254, 254, 254],\n",
              "        [254, 254, 254],\n",
              "        [254, 254, 254]],\n",
              "\n",
              "       [[250, 250, 250],\n",
              "        [250, 250, 250],\n",
              "        [250, 250, 250],\n",
              "        ...,\n",
              "        [254, 254, 254],\n",
              "        [254, 254, 254],\n",
              "        [254, 254, 254]],\n",
              "\n",
              "       ...,\n",
              "\n",
              "       [[ 19,  21,  16],\n",
              "        [ 18,  20,  15],\n",
              "        [ 18,  20,  15],\n",
              "        ...,\n",
              "        [ 48,  43,  31],\n",
              "        [ 60,  56,  44],\n",
              "        [ 57,  53,  41]],\n",
              "\n",
              "       [[ 15,  17,  12],\n",
              "        [ 15,  17,  12],\n",
              "        [ 15,  17,  12],\n",
              "        ...,\n",
              "        [ 37,  34,  21],\n",
              "        [ 39,  36,  24],\n",
              "        [ 34,  31,  19]],\n",
              "\n",
              "       [[ 13,  15,  10],\n",
              "        [ 13,  15,  10],\n",
              "        [ 13,  15,  10],\n",
              "        ...,\n",
              "        [ 29,  27,  14],\n",
              "        [ 30,  28,  15],\n",
              "        [ 32,  30,  17]]], dtype=uint8)</pre></div><script>\n",
              "      (() => {\n",
              "      const titles = ['show data', 'hide data'];\n",
              "      let index = 0\n",
              "      document.querySelector('#id-91bc16d5-ba72-4398-b2ca-08e7e77e7879 button').onclick = (e) => {\n",
              "        document.querySelector('#id-91bc16d5-ba72-4398-b2ca-08e7e77e7879').classList.toggle('show_array');\n",
              "        index = (++index) % 2;\n",
              "        document.querySelector('#id-91bc16d5-ba72-4398-b2ca-08e7e77e7879 button').textContent = titles[index];\n",
              "        e.preventDefault();\n",
              "        e.stopPropagation();\n",
              "      }\n",
              "      })();\n",
              "    </script>"
            ]
          },
          "metadata": {},
          "execution_count": 21
        }
      ],
      "source": [
        "x_train[0]"
      ]
    },
    {
      "cell_type": "code",
      "execution_count": 22,
      "metadata": {
        "colab": {
          "base_uri": "https://localhost:8080/"
        },
        "id": "xt7VcqGHb0fY",
        "outputId": "9871d6e3-f82e-469b-8292-54e85e4d6105"
      },
      "outputs": [
        {
          "output_type": "execute_result",
          "data": {
            "text/plain": [
              "array([0, 0, 1, 0, 1, 0, 1, 0, 0, 0])"
            ]
          },
          "metadata": {},
          "execution_count": 22
        }
      ],
      "source": [
        "y_train[0:10]"
      ]
    },
    {
      "cell_type": "code",
      "source": [
        "x_train_scaled = x_train / 255\n",
        "x_test_scaled  = x_test/255"
      ],
      "metadata": {
        "id": "fJT39OPrt5D_"
      },
      "execution_count": 23,
      "outputs": []
    },
    {
      "cell_type": "markdown",
      "source": [
        "# Model Building and Testing"
      ],
      "metadata": {
        "id": "O_GftgiP5diq"
      }
    },
    {
      "cell_type": "code",
      "execution_count": 40,
      "metadata": {
        "colab": {
          "base_uri": "https://localhost:8080/"
        },
        "id": "kM7EJepyb5-J",
        "outputId": "db70cdc3-1c32-46be-f29e-03b9acaee93f"
      },
      "outputs": [
        {
          "output_type": "stream",
          "name": "stdout",
          "text": [
            "Epoch 1/5\n",
            "189/189 [==============================] - 133s 695ms/step - loss: 0.3904 - accuracy: 0.8188 - val_loss: 0.2795 - val_accuracy: 0.8822\n",
            "Epoch 2/5\n",
            "189/189 [==============================] - 127s 671ms/step - loss: 0.2524 - accuracy: 0.8995 - val_loss: 0.2175 - val_accuracy: 0.9060\n",
            "Epoch 3/5\n",
            "189/189 [==============================] - 127s 672ms/step - loss: 0.2118 - accuracy: 0.9211 - val_loss: 0.1970 - val_accuracy: 0.9239\n",
            "Epoch 4/5\n",
            "189/189 [==============================] - 126s 668ms/step - loss: 0.1923 - accuracy: 0.9325 - val_loss: 0.1684 - val_accuracy: 0.9351\n",
            "Epoch 5/5\n",
            "189/189 [==============================] - 125s 663ms/step - loss: 0.1745 - accuracy: 0.9350 - val_loss: 0.1624 - val_accuracy: 0.9385\n"
          ]
        },
        {
          "output_type": "execute_result",
          "data": {
            "text/plain": [
              "<keras.src.callbacks.History at 0x782bddfbfa60>"
            ]
          },
          "metadata": {},
          "execution_count": 40
        }
      ],
      "source": [
        "## Model building\n",
        "\n",
        "model_1 = Sequential([\n",
        "    Input(shape=(224,224,3)),\n",
        "    Conv2D(10,3,activation='relu'),\n",
        "    MaxPool2D(),\n",
        "\n",
        "    Conv2D(10,3,activation='relu'),\n",
        "    MaxPool2D(),\n",
        "\n",
        "    Conv2D(10,3,activation='relu'),\n",
        "    MaxPool2D(),\n",
        "\n",
        "    Conv2D(10,3,activation='relu'),\n",
        "    MaxPool2D(),\n",
        "\n",
        "    Conv2D(10,3,activation='relu'),\n",
        "    MaxPool2D(),\n",
        "\n",
        "    Flatten(),\n",
        "    Dense(2,activation='softmax')\n",
        "])\n",
        "\n",
        "model_1.compile(\n",
        "    loss = 'sparse_categorical_crossentropy',\n",
        "    optimizer = 'adam',\n",
        "    metrics = ['accuracy']\n",
        ")\n",
        "\n",
        "model_1.fit(\n",
        "    x_train_scaled,y_train,\n",
        "    validation_data  = (x_test_scaled,y_test),\n",
        "    epochs = 5,\n",
        "    batch_size = 32\n",
        ")"
      ]
    },
    {
      "cell_type": "code",
      "execution_count": 41,
      "metadata": {
        "id": "zT3gZMyJjhN3",
        "colab": {
          "base_uri": "https://localhost:8080/"
        },
        "outputId": "7b5fe70f-9d43-44c1-c43a-31d0c0476756"
      },
      "outputs": [
        {
          "output_type": "stream",
          "name": "stdout",
          "text": [
            "48/48 [==============================] - 8s 172ms/step - loss: 0.1624 - accuracy: 0.9385\n"
          ]
        },
        {
          "output_type": "execute_result",
          "data": {
            "text/plain": [
              "[0.16241930425167084, 0.93845134973526]"
            ]
          },
          "metadata": {},
          "execution_count": 41
        }
      ],
      "source": [
        "model_1.evaluate(x_test_scaled,y_test)"
      ]
    },
    {
      "cell_type": "markdown",
      "source": [
        "# Predictive System"
      ],
      "metadata": {
        "id": "SX-QX7te5jUP"
      }
    },
    {
      "cell_type": "code",
      "source": [
        "def prediction():\n",
        "  image = input(\"Enter the image path: \")\n",
        "  image = mimg.imread(image)\n",
        "  img = image / 255\n",
        "  image = tf.image.resize(img,(224,224))\n",
        "  image = tf.expand_dims(image,axis=0)\n",
        "  pred = model_1.predict(image)\n",
        "  print(pred)\n",
        "  output = np.argmax(pred)\n",
        "\n",
        "  if output == 1:\n",
        "    print(\"With Mask\")\n",
        "  else:\n",
        "    print(\"Without Mask\")"
      ],
      "metadata": {
        "id": "2N4bW2Fer3Gz"
      },
      "execution_count": 65,
      "outputs": []
    },
    {
      "cell_type": "code",
      "source": [
        "prediction()"
      ],
      "metadata": {
        "colab": {
          "base_uri": "https://localhost:8080/"
        },
        "id": "Tg_aQn2Ss8PU",
        "outputId": "6e09239b-bd3d-47ea-bedf-62d3774643ec"
      },
      "execution_count": 67,
      "outputs": [
        {
          "output_type": "stream",
          "name": "stdout",
          "text": [
            "Enter the image path: /content/images (1).jpeg\n",
            "1/1 [==============================] - 0s 27ms/step\n",
            "[[0.00330728 0.99669266]]\n",
            "With Mask\n"
          ]
        }
      ]
    }
  ],
  "metadata": {
    "accelerator": "TPU",
    "colab": {
      "gpuType": "V28",
      "provenance": [],
      "authorship_tag": "ABX9TyNdvqSnFPn5znbrEDp3Eav1",
      "include_colab_link": true
    },
    "kernelspec": {
      "display_name": "Python 3",
      "name": "python3"
    },
    "language_info": {
      "name": "python"
    }
  },
  "nbformat": 4,
  "nbformat_minor": 0
}